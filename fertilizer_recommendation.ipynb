{
 "cells": [
  {
   "cell_type": "code",
   "execution_count": null,
   "metadata": {
    "vscode": {
     "languageId": "plaintext"
    }
   },
   "outputs": [],
   "source": [
    "import seaborn as sns \n",
    "from sklearn.preprocessing import LabelEncoder , StandardScaler\n",
    "from sklearn.model_selection  import train_test_split\n",
    "from sklearn.tree import DecisionTreeClassifier"
   ]
  },
  {
   "cell_type": "code",
   "execution_count": null,
   "metadata": {
    "vscode": {
     "languageId": "plaintext"
    }
   },
   "outputs": [],
   "source": [
    "#load the dataset\n",
    "fertilizer =pd.read_csv(\"Dataset/Fertilizer Prediction.csv\")\n",
    "fertilizer.head()\n",
    "\n"
   ]
  },
  {
   "cell_type": "code",
   "execution_count": null,
   "metadata": {
    "vscode": {
     "languageId": "plaintext"
    }
   },
   "outputs": [],
   "source": [
    "#check the shape of dataset\n",
    "fertilizer.shape"
   ]
  },
  {
   "cell_type": "code",
   "execution_count": null,
   "metadata": {
    "vscode": {
     "languageId": "plaintext"
    }
   },
   "outputs": [],
   "source": [
    "#check the basic info of dataset\n",
    "fertilizer.info()"
   ]
  },
  {
   "cell_type": "code",
   "execution_count": null,
   "metadata": {
    "vscode": {
     "languageId": "plaintext"
    }
   },
   "outputs": [],
   "source": [
    "fertilizer['Fertilizer Name'].value_counts()"
   ]
  },
  {
   "cell_type": "code",
   "execution_count": null,
   "metadata": {
    "vscode": {
     "languageId": "plaintext"
    }
   },
   "outputs": [],
   "source": [
    "# check the distribution of temperature column\n",
    "sns.histplot(fertilizer['Temperature'] ,kde = True)\n",
    "plt.show()"
   ]
  },
  {
   "cell_type": "code",
   "execution_count": null,
   "metadata": {
    "vscode": {
     "languageId": "plaintext"
    }
   },
   "outputs": [],
   "source": [
    "#only select the numerical columns\n",
    "features = fertilizer.select_dtypes(include=[np.number]).columns.tolist()\n",
    "print(features)"
   ]
  },
  {
   "cell_type": "code",
   "execution_count": null,
   "metadata": {
    "vscode": {
     "languageId": "plaintext"
    }
   },
   "outputs": [],
   "source": [
    "# visualize the distribution of each feature\n",
    "fig , ax=plt.subplots(2,3,figsize=(15,10))\n",
    "for i , subplot in zip(features , ax.flatten()):\n",
    "    sns.histplot(fertilizer[i] , ax=subplot , kde=True)\n",
    "    subplot.set.title(i)\n",
    "plt.tight_layout()\n",
    "plt.show()"
   ]
  },
  {
   "cell_type": "code",
   "execution_count": null,
   "metadata": {
    "vscode": {
     "languageId": "plaintext"
    }
   },
   "outputs": [],
   "source": [
    "#plot scatter plot of each feature against the target\n",
    "fig, ax =plt.subplots(2,3, figsize=(15,10))\n",
    "for i , subplot in zip(features , ax.flatten()):\n",
    "    sns.scatterplot(x=i , y=\"fertilizer Name\" , data = fertilizer , ax= subplot)\n",
    "plt.tight_layout()\n",
    "plt.show()"
   ]
  },
  {
   "cell_type": "markdown",
   "metadata": {},
   "source": [
    "#Encoding the target Column"
   ]
  },
  {
   "cell_type": "code",
   "execution_count": null,
   "metadata": {
    "vscode": {
     "languageId": "plaintext"
    }
   },
   "outputs": [],
   "source": [
    "fert_dict={\n",
    "    'Urea':1,\n",
    "    'DAP' :2 , \n",
    "    '14-35-14':3,\n",
    "    '28-28':4,\n",
    "    '17-17-17':5,\n",
    "    '20-20':6,\n",
    "    '10-26-26':7\n",
    "}"
   ]
  },
  {
   "cell_type": "code",
   "execution_count": null,
   "metadata": {
    "vscode": {
     "languageId": "plaintext"
    }
   },
   "outputs": [],
   "source": [
    "fertilizer['fert_no'] =fertilizer['Fetilizer Name'].map(fert_dict)"
   ]
  },
  {
   "cell_type": "code",
   "execution_count": null,
   "metadata": {
    "vscode": {
     "languageId": "plaintext"
    }
   },
   "outputs": [],
   "source": [
    "fertilizer['fert_no'].value_counts()"
   ]
  },
  {
   "cell_type": "code",
   "execution_count": null,
   "metadata": {
    "vscode": {
     "languageId": "plaintext"
    }
   },
   "outputs": [],
   "source": [
    "# drop the target column with name and keep the target column with numbers\n",
    "fertilizer.drop('Fertilizer Name' , axis=1 , implace=True)\n",
    "fertilzeer.head()"
   ]
  },
  {
   "cell_type": "code",
   "execution_count": null,
   "metadata": {
    "vscode": {
     "languageId": "plaintext"
    }
   },
   "outputs": [],
   "source": [
    "# select the object columns\n",
    "fertilizer.select_dypes(include['object']).columns"
   ]
  },
  {
   "cell_type": "code",
   "execution_count": null,
   "metadata": {
    "vscode": {
     "languageId": "plaintext"
    }
   },
   "outputs": [],
   "source": [
    "#convert the categorial columns to numerical columns using labelcoder\n",
    "lb=LabelEncoder()\n",
    "fertilizer[\"Soil Type\"]=lb.fit_transform(ferilizer['Soil Type'])\n",
    "ferilizer['Crop Type']=lb.fit_transform(fertilizer['Crop Type'])"
   ]
  },
  {
   "cell_type": "code",
   "execution_count": null,
   "metadata": {
    "vscode": {
     "languageId": "plaintext"
    }
   },
   "outputs": [],
   "source": [
    "fertilizer.head()"
   ]
  },
  {
   "cell_type": "markdown",
   "metadata": {},
   "source": [
    "# Predictive System"
   ]
  },
  {
   "cell_type": "markdown",
   "metadata": {},
   "source": [
    "def recommend_fertilizer(Temperature ,Humidity , Moisture , Soil_Type , Crop_Type , Nitrogen ,Potassium ,Phosphorous)\n",
    "    features=np.array([[Temperature , Humidity , Moisture , Soil_Type ,Crop_Type , Nitrogen , Potassium ,Phosphorous]])\n",
    "    transformed_features = sc.transform(features)\n",
    "    prediction= model.predict(transform)\n",
    "    fert_dict={ 'Urea':1,'DAP' :2 , '14-35-14':3,'28-28':4,'17-17-17':5, '20-20':6,'10-26-26':7}\n",
    "    fertilizer=[fert_dict[i] in prediction[0]]\n",
    "\n",
    "    return f\"{fertilizer} is a best fertilizer for the given condition\""
   ]
  },
  {
   "cell_type": "code",
   "execution_count": null,
   "metadata": {
    "vscode": {
     "languageId": "plaintext"
    }
   },
   "outputs": [],
   "source": [
    "#Given input values\n",
    "Temperature =26\n",
    "Humidity =0.5\n",
    "Moisture =0.6\n",
    "Soil_Type =2\n",
    "Crop_Type =3\n",
    "Nitrogen =10\n",
    "Potassium= 15\n",
    "Phosphorous=6\n",
    "\n",
    "#Use the recommendation function to get a prediction\n",
    "recommend_fertilizer( Temperature , Humidity , Moisture , Soil_Type ,Crop_Type ,Nitrogen , Potassium , Phosphorous)"
   ]
  },
  {
   "cell_type": "code",
   "execution_count": null,
   "metadata": {
    "vscode": {
     "languageId": "plaintext"
    }
   },
   "outputs": [],
   "source": []
  },
  {
   "cell_type": "code",
   "execution_count": null,
   "metadata": {
    "vscode": {
     "languageId": "plaintext"
    }
   },
   "outputs": [],
   "source": []
  }
 ],
 "metadata": {
  "language_info": {
   "name": "python"
  }
 },
 "nbformat": 4,
 "nbformat_minor": 2
}
